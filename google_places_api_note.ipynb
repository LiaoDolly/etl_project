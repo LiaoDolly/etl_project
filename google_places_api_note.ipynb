{
 "cells": [
  {
   "cell_type": "markdown",
   "metadata": {},
   "source": [
    "# Google places api\n",
    "\n",
    "[連結](https://developers.google.com/places/?hl=zh-tw)\n",
    "\n",
    "## 附近地點搜尋要求\n",
    "---\n",
    "`https://maps.googleapis.com/maps/api/place/nearbysearch/output?parameters`  \n",
    "回傳:  \n",
    "`output`:`json` or `xml`  \n",
    "\n",
    "必要參數:\n",
    "- `key`\n",
    "- `location`\n",
    "- `radius`\n",
    "\n",
    "參數:\n",
    "- `keyword`\n",
    "- `language` : [清單](https://developers.google.com/maps/faq?hl=zh-tw#languagesupport)\n",
    "- `type` : [詳細](https://developers.google.com/places/web-service/supported_types?hl=zh-tw)\n",
    "- `rankby` : 不能和 `raius` 共用\n",
    " - `prominence`\n",
    " - `distance`\n",
    "- `pagetoken`"
   ]
  },
  {
   "cell_type": "code",
   "execution_count": 2,
   "metadata": {
    "collapsed": true
   },
   "outputs": [],
   "source": [
    "#read api key\n",
    "with open('C:\\places_api_key') as f:\n",
    "    api_key = f.read()"
   ]
  },
  {
   "cell_type": "code",
   "execution_count": 6,
   "metadata": {},
   "outputs": [
    {
     "name": "stdout",
     "output_type": "stream",
     "text": [
      "OK\n"
     ]
    }
   ],
   "source": [
    "#use googlemap pkg\n",
    "import googlemaps\n",
    "\n",
    "gmaps = googlemaps.Client(key=api_key)\n",
    "data = gmaps.places_radar([25.046428, 121.517565],500,type='cafe')\n",
    "\n",
    "print(data['status'])"
   ]
  },
  {
   "cell_type": "code",
   "execution_count": 7,
   "metadata": {},
   "outputs": [
    {
     "name": "stdout",
     "output_type": "stream",
     "text": [
      "CoQC_wAAAMqNKTMx4cL8XF4sB0340JQIwqvtGuRalc-wsT-la1pBVV-aj5AqKXmn0m9qEickR2VWHqyM_Sp4qIeYxvpWUTmBzKv4Nfa8gJ2cKMWauTyjXSlWxwI3yZukV-gQiCynU3p0T-eh0mcclEaCrh5Zco5z_eC_tYjHQHD0Cx35Wo2US20iQpL6bKbvPKcgkkseyNvUPqe9XWHY4WRW4_ZV6V5UYGCzK6dT1S1UCop6zLbf5QJswR_iTMb05TGmRArPfsteB453mjn48beblyM3xsabllILvt4-0JC-RJthfGIDuVm7f3cGa4xNhHazzBwaERga3MyiLSMVp2joCrhIciMSENq46MsCwYKZS31Ua5UNWwAaFLyRpJt_sw7NznioNlqyNNNyszQh\n"
     ]
    }
   ],
   "source": [
    "#using api uri\n",
    "import requests\n",
    "import json\n",
    "\n",
    "apiurl = 'https://maps.googleapis.com/maps/api/place/nearbysearch/json'\n",
    "parameters = {}\n",
    "parameters['key'] = \n",
    "parameters['location'] = '25.046428,121.517565'\n",
    "parameters['radius'] = '500'\n",
    "parameters['type'] = 'cafe'\n",
    "\n",
    "res = requests.get(apiurl,parameters)\n",
    "data = json.loads(res.text)\n",
    "print(data.get('next_page_token'))"
   ]
  },
  {
   "cell_type": "code",
   "execution_count": 9,
   "metadata": {},
   "outputs": [
    {
     "name": "stdout",
     "output_type": "stream",
     "text": [
      "OK\n"
     ]
    }
   ],
   "source": [
    "#next_page\n",
    "parameters['pagetoken'] = data.get('next_page_token')\n",
    "\n",
    "res2 = requests.get(apiurl,parameters)\n",
    "data2 = json.loads(res2.text)\n",
    "print(data2.get('status'))"
   ]
  },
  {
   "cell_type": "markdown",
   "metadata": {},
   "source": []
  },
  {
   "cell_type": "code",
   "execution_count": null,
   "metadata": {
    "collapsed": true
   },
   "outputs": [],
   "source": [
    "#main\n",
    "import json\n",
    "import requests\n",
    "\n",
    "def loadkey(path='C:\\places_api_key'):\n",
    "    with open('C:\\places_api_key') as f:\n",
    "        return f.read()\n",
    "\n",
    "    \n",
    "\n",
    "apiurl = 'https://maps.googleapis.com/maps/api/place/nearbysearch/json'\n",
    "parameters = {}\n",
    "parameters['key'] = \n",
    "parameters['location'] = '25.046428,121.517565'\n",
    "parameters['radius'] = '500'\n",
    "parameters['type'] = 'cafe'\n",
    "\n"
   ]
  }
 ],
 "metadata": {
  "kernelspec": {
   "display_name": "Python 3",
   "language": "python",
   "name": "python3"
  },
  "language_info": {
   "codemirror_mode": {
    "name": "ipython",
    "version": 3
   },
   "file_extension": ".py",
   "mimetype": "text/x-python",
   "name": "python",
   "nbconvert_exporter": "python",
   "pygments_lexer": "ipython3",
   "version": "3.6.1"
  }
 },
 "nbformat": 4,
 "nbformat_minor": 2
}
