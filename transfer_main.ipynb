{
 "cells": [
  {
   "cell_type": "markdown",
   "metadata": {},
   "source": [
    "# version 0.1\n",
    "\n",
    "問題: only for 104 data"
   ]
  },
  {
   "cell_type": "code",
   "execution_count": 1,
   "metadata": {
    "collapsed": true
   },
   "outputs": [],
   "source": [
    "import json\n",
    "import re\n",
    "from os import walk\n",
    "from collections import Counter\n",
    "\n",
    "\n",
    "#return a dict key:path value:filenames\n",
    "def getFilesPath(path = './'):\n",
    "    pathdict = {}\n",
    "    for (dirpath, dirnames, filenames) in walk(path):\n",
    "        for name in dirnames:\n",
    "            nowpath = dirpath + '/'+ name\n",
    "            pathlist.update(getFilesPath(nowpath))\n",
    "        pathdict[dirpath] = filenames\n",
    "        break\n",
    "    return pathdict\n",
    "\n",
    "# def list_for_all(jobs):\n",
    "\n",
    "# def counting_tools(path):\n",
    "#     pathDict = getFilesPath(path)\n",
    "#     ct = Counter()\n",
    "#     ct['jobs_number'] = 0\n",
    " \n",
    "#     return ct\n",
    "\n",
    "\n",
    "if __name__ == \"__main__\":\n",
    "    path = './data/104'\n",
    "    ct = counting_tools(path)"
   ]
  },
  {
   "cell_type": "code",
   "execution_count": 2,
   "metadata": {},
   "outputs": [
    {
     "data": {
      "text/plain": [
       "[('jobs_number', 69602),\n",
       " ('JAVA', 3035),\n",
       " ('MS SQL', 2961),\n",
       " ('LINUX', 2847),\n",
       " ('JAVASCRIPT', 2809),\n",
       " ('C++', 2498),\n",
       " ('C#', 2398),\n",
       " ('HTML', 2264),\n",
       " ('C', 2204),\n",
       " ('EXCEL', 2110),\n",
       " ('MYSQL', 2061),\n",
       " ('WORD', 2048),\n",
       " ('ASP.NET', 1872),\n",
       " ('JQUERY', 1735),\n",
       " ('POWERPOINT', 1622),\n",
       " ('PHP', 1596),\n",
       " ('ORACLE', 1422),\n",
       " ('OUTLOOK', 1054),\n",
       " ('AJAX', 903),\n",
       " ('WINDOWS SERVER 2008', 889),\n",
       " ('WINDOWS SERVER 2012', 850),\n",
       " ('WINDOWS 7', 817),\n",
       " ('TCP/IP', 795),\n",
       " ('ANDROID', 706),\n",
       " ('PYTHON', 685),\n",
       " ('WINDOWS XP', 580),\n",
       " ('JSP', 562),\n",
       " ('VMWARE', 547),\n",
       " ('VISUAL STUDIO .NET', 504),\n",
       " ('HTTP', 503)]"
      ]
     },
     "execution_count": 2,
     "metadata": {},
     "output_type": "execute_result"
    }
   ],
   "source": [
    "ct.most_common(30)"
   ]
  },
  {
   "cell_type": "code",
   "execution_count": null,
   "metadata": {
    "collapsed": true
   },
   "outputs": [],
   "source": []
  }
 ],
 "metadata": {
  "kernelspec": {
   "display_name": "Python 3",
   "language": "python",
   "name": "python3"
  },
  "language_info": {
   "codemirror_mode": {
    "name": "ipython",
    "version": 3
   },
   "file_extension": ".py",
   "mimetype": "text/x-python",
   "name": "python",
   "nbconvert_exporter": "python",
   "pygments_lexer": "ipython3",
   "version": "3.6.1"
  },
  "widgets": {
   "application/vnd.jupyter.widget-state+json": {
    "state": {},
    "version_major": 1,
    "version_minor": 0
   }
  }
 },
 "nbformat": 4,
 "nbformat_minor": 2
}
