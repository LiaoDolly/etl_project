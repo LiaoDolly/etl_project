{
 "cells": [
  {
   "cell_type": "markdown",
   "metadata": {},
   "source": [
    "# Google places api\n",
    "\n",
    "[連結](https://developers.google.com/places/?hl=zh-tw)\n",
    "\n",
    "## 附近地點搜尋要求  \n",
    "---\n",
    "針對每一查詢最多會傳回 20 個 establishment 結果；然而，每個搜尋可傳回多達 60 個紀錄\n",
    "\n",
    "`https://maps.googleapis.com/maps/api/place/nearbysearch/output?parameters`  \n",
    "回傳:  \n",
    "`output`:`json` or `xml`  \n",
    "\n",
    "必要參數:\n",
    "- `key`\n",
    "- `location`\n",
    "- `radius`\n",
    "\n",
    "參數:\n",
    "- `keyword`\n",
    "- `language` : [清單](https://developers.google.com/maps/faq?hl=zh-tw#languagesupport)\n",
    "- `type` : [詳細](https://developers.google.com/places/web-service/supported_types?hl=zh-tw)\n",
    "- `rankby` : 不能和 `raius` 共用\n",
    " - `prominence`\n",
    " - `distance`\n",
    "- `pagetoken`\n",
    "\n",
    "## 雷達搜尋要求  \n",
    "---\n",
    "可讓您一次搜尋高達 200 個地點，但是與一般從「文字搜尋」或「附近地點搜尋」要求傳回的資訊相比較不詳細  \n",
    "`https://maps.googleapis.com/maps/api/place/radarsearch/output?parameters`"
   ]
  },
  {
   "cell_type": "code",
   "execution_count": 10,
   "metadata": {
    "collapsed": true
   },
   "outputs": [],
   "source": [
    "#read api key\n",
    "with open('C:\\places_api_key') as f:\n",
    "    api_key = f.read()"
   ]
  },
  {
   "cell_type": "code",
   "execution_count": 6,
   "metadata": {},
   "outputs": [
    {
     "name": "stdout",
     "output_type": "stream",
     "text": [
      "OK\n"
     ]
    }
   ],
   "source": [
    "#use googlemap pkg\n",
    "import googlemaps\n",
    "\n",
    "gmaps = googlemaps.Client(key=api_key)\n",
    "data = gmaps.places_radar([25.046428, 121.517565],500,type='cafe')\n",
    "\n",
    "print(data['status'])"
   ]
  },
  {
   "cell_type": "code",
   "execution_count": 21,
   "metadata": {},
   "outputs": [
    {
     "name": "stdout",
     "output_type": "stream",
     "text": [
      "OK\n"
     ]
    }
   ],
   "source": [
    "#using api uri\n",
    "import requests\n",
    "import json\n",
    "\n",
    "#不求詳細 用雷達收尋\n",
    "apiurl = 'https://maps.googleapis.com/maps/api/place/radarsearch/json'\n",
    "\n",
    "parameters = {}\n",
    "parameters['key'] = api_key\n",
    "parameters['location'] = '25.046428,121.517565'\n",
    "parameters['radius'] = '500'\n",
    "parameters['type'] = 'cafe'\n",
    "\n",
    "res = requests.get(apiurl, parameters)\n",
    "data = json.loads(res.text)\n",
    "print(data.get('status'))"
   ]
  },
  {
   "cell_type": "code",
   "execution_count": 22,
   "metadata": {},
   "outputs": [
    {
     "data": {
      "text/plain": [
       "113"
      ]
     },
     "execution_count": 22,
     "metadata": {},
     "output_type": "execute_result"
    }
   ],
   "source": [
    "len(data.get('results'))"
   ]
  },
  {
   "cell_type": "code",
   "execution_count": 9,
   "metadata": {},
   "outputs": [
    {
     "name": "stdout",
     "output_type": "stream",
     "text": [
      "OK\n"
     ]
    }
   ],
   "source": [
    "#next_page\n",
    "parameters['pagetoken'] = data.get('next_page_token')\n",
    "\n",
    "res2 = requests.get(apiurl,parameters)\n",
    "data2 = json.loads(res2.text)\n",
    "print(data2.get('status'))"
   ]
  }
 ],
 "metadata": {
  "kernelspec": {
   "display_name": "Python 3",
   "language": "python",
   "name": "python3"
  },
  "language_info": {
   "codemirror_mode": {
    "name": "ipython",
    "version": 3
   },
   "file_extension": ".py",
   "mimetype": "text/x-python",
   "name": "python",
   "nbconvert_exporter": "python",
   "pygments_lexer": "ipython3",
   "version": "3.6.1"
  }
 },
 "nbformat": 4,
 "nbformat_minor": 2
}
