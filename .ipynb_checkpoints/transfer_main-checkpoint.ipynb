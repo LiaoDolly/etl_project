{
 "cells": [
  {
   "cell_type": "markdown",
   "metadata": {},
   "source": [
    "$\\LaTeX$"
   ]
  },
  {
   "cell_type": "code",
   "execution_count": 10,
   "metadata": {},
   "outputs": [
    {
     "name": "stdout",
     "output_type": "stream",
     "text": [
      "./data/104\n",
      "['Job_104_1001.json', 'Job_104_1002.json', 'Job_104_1003.json', 'Job_104_1004.json', 'Job_104_1005.json', 'Job_104_1006.json', 'Job_104_1007.json', 'Job_104_1008.json', 'Job_104_1009.json', 'Job_104_1010.json', 'Job_104_1011.json', 'Job_104_1012.json', 'Job_104_2001.json', 'Job_104_2002.json', 'Job_104_2003.json', 'Job_104_2004.json', 'Job_104_2005.json', 'Job_104_2006.json', 'Job_104_2007.json', 'Job_104_2008.json', 'test104.json', 'test104_beauty.json']\n",
      "./data/1111\n",
      "['1111_Get_C#_d0All.json', '1111_Get_C++_d0All.json', '1111_Get_C_d0All.json', '1111_Get_HADOOP_d0All.json', '1111_Get_HTML_d0All.json', '1111_Get_JavaScript_d0All.json', '1111_Get_Java_d0All.json', '1111_Get_Linux_d0All.json', '1111_Get_Mongo DB_d0All.json', '1111_Get_PHP_d0All.json', '1111_Get_PYTHON_d0All.json', '1111_Get_SQL_d0All.json', '1111_Get_大數據分析師_d0All.json', '1111_Get_資料分析師_d0All.json', '1111_Get_軟體設計工程師_d0All.json']\n",
      "./data/518\n",
      "['518_Get_Java_ab2032001.json', '518_Get_PHP_ab2032001.json', '518_Get_工程師_ab2032001.json', '518_Get_軟體設計工程師_ab2032001.json']\n",
      "./data\n",
      "[]\n"
     ]
    }
   ],
   "source": [
    "import json\n",
    "import re\n",
    "from os import walk\n",
    "from collections import Counter\n",
    "\n",
    "\n",
    "#return a dict key:path value:filenames\n",
    "def getFilesPath(path = './'):\n",
    "    pathlist = {}\n",
    "    for (dirpath, dirnames, filenames) in walk(path):\n",
    "        for name in dirnames:\n",
    "            nowpath = dirpath + '/'+ name\n",
    "            pathlist.update(getFilesPath(nowpath))\n",
    "        pathlist[dirpath] = filenames\n",
    "        break\n",
    "    return pathlist\n",
    "\n",
    "def list_for_all(jobs):\n",
    "    count_list = []\n",
    "    for work in jobs:\n",
    "        count_list.extend(re.findall('([\\x00-\\x7F]+)', work['tools']))\n",
    "    return count_list\n",
    "\n",
    "\n",
    "if __name__ == \"__main__\":\n",
    "    path = './data'\n",
    "    pathDict = getFilesPath(path)\n",
    "\n",
    "    for key, value in pathDict.items():\n",
    "        print(key)\n",
    "        print(value)\n",
    "#     with open(filepath, encoding = 'utf8') as f:\n",
    "#         datas = json.load(f)\n",
    "#         ct = Counter()\n",
    "#         for word in count_list:\n",
    "#             word = word.strip().upper()\n",
    "#             ct[word] += 1\n"
   ]
  },
  {
   "cell_type": "code",
   "execution_count": 6,
   "metadata": {},
   "outputs": [
    {
     "name": "stdout",
     "output_type": "stream",
     "text": [
      "{'./data/104': ['Job_104_1001.json', 'Job_104_1002.json', 'Job_104_1003.json', 'Job_104_1004.json', 'Job_104_1005.json', 'Job_104_1006.json', 'Job_104_1007.json', 'Job_104_1008.json', 'Job_104_1009.json', 'Job_104_1010.json', 'Job_104_1011.json', 'Job_104_1012.json', 'Job_104_2001.json', 'Job_104_2002.json', 'Job_104_2003.json', 'Job_104_2004.json', 'Job_104_2005.json', 'Job_104_2006.json', 'Job_104_2007.json', 'Job_104_2008.json', 'test104.json', 'test104_beauty.json'], './data/1111': ['1111_Get_C#_d0All.json', '1111_Get_C++_d0All.json', '1111_Get_C_d0All.json', '1111_Get_HADOOP_d0All.json', '1111_Get_HTML_d0All.json', '1111_Get_JavaScript_d0All.json', '1111_Get_Java_d0All.json', '1111_Get_Linux_d0All.json', '1111_Get_Mongo DB_d0All.json', '1111_Get_PHP_d0All.json', '1111_Get_PYTHON_d0All.json', '1111_Get_SQL_d0All.json', '1111_Get_大數據分析師_d0All.json', '1111_Get_資料分析師_d0All.json', '1111_Get_軟體設計工程師_d0All.json'], './data/518': ['518_Get_Java_ab2032001.json', '518_Get_PHP_ab2032001.json', '518_Get_工程師_ab2032001.json', '518_Get_軟體設計工程師_ab2032001.json'], './data': []}\n"
     ]
    }
   ],
   "source": [
    "print(pathDict)"
   ]
  },
  {
   "cell_type": "code",
   "execution_count": null,
   "metadata": {
    "collapsed": true
   },
   "outputs": [],
   "source": []
  }
 ],
 "metadata": {
  "kernelspec": {
   "display_name": "Python 3",
   "language": "python",
   "name": "python3"
  },
  "language_info": {
   "codemirror_mode": {
    "name": "ipython",
    "version": 3
   },
   "file_extension": ".py",
   "mimetype": "text/x-python",
   "name": "python",
   "nbconvert_exporter": "python",
   "pygments_lexer": "ipython3",
   "version": "3.6.1"
  }
 },
 "nbformat": 4,
 "nbformat_minor": 2
}
