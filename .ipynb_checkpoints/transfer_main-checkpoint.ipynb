{
 "cells": [
  {
   "cell_type": "markdown",
   "metadata": {},
   "source": [
    "# version 0.1\n",
    "\n",
    "問題: only for 104 data"
   ]
  },
  {
   "cell_type": "code",
   "execution_count": 20,
   "metadata": {},
   "outputs": [],
   "source": [
    "import json\n",
    "import re\n",
    "from os import walk\n",
    "from collections import Counter\n",
    "\n",
    "\n",
    "#return a dict key:path value:filenames\n",
    "def getFilesPath(path = './'):\n",
    "    pathlist = {}\n",
    "    for (dirpath, dirnames, filenames) in walk(path):\n",
    "        for name in dirnames:\n",
    "            nowpath = dirpath + '/'+ name\n",
    "            pathlist.update(getFilesPath(nowpath))\n",
    "        pathlist[dirpath] = filenames\n",
    "        break\n",
    "    return pathlist\n",
    "\n",
    "def list_for_all(jobs):\n",
    "    count_list = []\n",
    "    for work in jobs:\n",
    "        count_list.extend(re.findall('([\\x00-\\x7F]+)', work['tools']))\n",
    "    return count_list\n",
    "\n",
    "def counting_tools(path):\n",
    "    pathDict = getFilesPath(path)\n",
    "    ct = Counter()\n",
    "    ct['jobs_number'] = 0\n",
    "    for key, value in pathDict.items():\n",
    "        for filename in value:\n",
    "            if '.json' in filename:\n",
    "                filepath = key+'/'+filename\n",
    "                with open(filepath, encoding = 'utf8') as f:\n",
    "                    datas = json.load(f)\n",
    "                    count_list = list_for_all(datas['job_lists'])\n",
    "                    for word in count_list:\n",
    "                        word = word.strip().upper()\n",
    "                        ct[word] += 1\n",
    "                        ct['jobs_number'] += 1\n",
    "    return ct\n",
    "\n",
    "\n",
    "if __name__ == \"__main__\":\n",
    "    path = './data/104'\n",
    "    ct = counting_tools(path)"
   ]
  },
  {
   "cell_type": "code",
   "execution_count": null,
   "metadata": {},
   "outputs": [],
   "source": []
  },
  {
   "cell_type": "code",
   "execution_count": null,
   "metadata": {
    "collapsed": true
   },
   "outputs": [],
   "source": []
  }
 ],
 "metadata": {
  "kernelspec": {
   "display_name": "Python 3",
   "language": "python",
   "name": "python3"
  },
  "language_info": {
   "codemirror_mode": {
    "name": "ipython",
    "version": 3
   },
   "file_extension": ".py",
   "mimetype": "text/x-python",
   "name": "python",
   "nbconvert_exporter": "python",
   "pygments_lexer": "ipython3",
   "version": "3.6.1"
  },
  "widgets": {
   "application/vnd.jupyter.widget-state+json": {
    "state": {},
    "version_major": 1,
    "version_minor": 0
   }
  }
 },
 "nbformat": 4,
 "nbformat_minor": 2
}
